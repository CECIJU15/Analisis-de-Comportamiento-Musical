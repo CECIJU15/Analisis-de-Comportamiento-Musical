{
 "cells": [
  {
   "cell_type": "markdown",
   "metadata": {
    "id": "E0vqbgi9ay0H"
   },
   "source": [
    "# Proyecto Análisis de Comportamiento Musical"
   ]
  },
  {
   "cell_type": "markdown",
   "metadata": {},
   "source": [
    "# 📝 Descripción del Proyecto <a id='descripcion'></a>"
   ]
  },
  {
   "cell_type": "markdown",
   "metadata": {},
   "source": [
    "En este proyecto de análisis de datos, se estudian y comparan las preferencias musicales de los habitantes de dos ciudades: Springfield y Shelbyville. El objetivo principal es probar una hipótesis sobre el comportamiento de los usuarios en servicios de música en línea."
   ]
  },
  {
   "cell_type": "markdown",
   "metadata": {},
   "source": [
    "# 🎯 Objetivo <a id='objetivo'></a>"
   ]
  },
  {
   "cell_type": "markdown",
   "metadata": {},
   "source": [
    "Evaluar si los usuarios de Springfield y Shelbyville muestran patrones de escucha musical distintos, basándose en datos de streaming, con el fin de tomar decisiones informadas en estrategias de contenido y marketing."
   ]
  },
  {
   "cell_type": "markdown",
   "metadata": {
    "id": "Ml1hmfXC_Zcs"
   },
   "source": [
    "## Etapa 1. Carga y visualización de los datos <a id='data_review'></a>"
   ]
  },
  {
   "cell_type": "code",
   "execution_count": 39,
   "metadata": {
    "id": "AXN7PHPN_Zcs",
    "trusted": true
   },
   "outputs": [],
   "source": [
    "# Importar librerías\n",
    "import pandas as pd \n",
    "import seaborn as sns\n",
    "import matplotlib.pyplot as plt\n",
    "from scipy.stats import ttest_ind\n",
    "from scipy.stats import chi2_contingency"
   ]
  },
  {
   "cell_type": "code",
   "execution_count": 40,
   "metadata": {
    "id": "fFVu7vqh_Zct",
    "trusted": true
   },
   "outputs": [],
   "source": [
    "# Leer el archivo y almacenarlo en df\n",
    "df=pd.read_csv('music_project_en.csv')"
   ]
  },
  {
   "cell_type": "code",
   "execution_count": 41,
   "metadata": {
    "id": "oWTVX3gW_Zct",
    "trusted": true
   },
   "outputs": [
    {
     "data": {
      "text/html": [
       "<div>\n",
       "<style scoped>\n",
       "    .dataframe tbody tr th:only-of-type {\n",
       "        vertical-align: middle;\n",
       "    }\n",
       "\n",
       "    .dataframe tbody tr th {\n",
       "        vertical-align: top;\n",
       "    }\n",
       "\n",
       "    .dataframe thead th {\n",
       "        text-align: right;\n",
       "    }\n",
       "</style>\n",
       "<table border=\"1\" class=\"dataframe\">\n",
       "  <thead>\n",
       "    <tr style=\"text-align: right;\">\n",
       "      <th></th>\n",
       "      <th>userID</th>\n",
       "      <th>Track</th>\n",
       "      <th>artist</th>\n",
       "      <th>genre</th>\n",
       "      <th>City</th>\n",
       "      <th>time</th>\n",
       "      <th>Day</th>\n",
       "    </tr>\n",
       "  </thead>\n",
       "  <tbody>\n",
       "    <tr>\n",
       "      <th>0</th>\n",
       "      <td>FFB692EC</td>\n",
       "      <td>Kamigata To Boots</td>\n",
       "      <td>The Mass Missile</td>\n",
       "      <td>rock</td>\n",
       "      <td>Shelbyville</td>\n",
       "      <td>20:28:33</td>\n",
       "      <td>Wednesday</td>\n",
       "    </tr>\n",
       "    <tr>\n",
       "      <th>1</th>\n",
       "      <td>55204538</td>\n",
       "      <td>Delayed Because of Accident</td>\n",
       "      <td>Andreas Rönnberg</td>\n",
       "      <td>rock</td>\n",
       "      <td>Springfield</td>\n",
       "      <td>14:07:09</td>\n",
       "      <td>Friday</td>\n",
       "    </tr>\n",
       "    <tr>\n",
       "      <th>2</th>\n",
       "      <td>20EC38</td>\n",
       "      <td>Funiculì funiculà</td>\n",
       "      <td>Mario Lanza</td>\n",
       "      <td>pop</td>\n",
       "      <td>Shelbyville</td>\n",
       "      <td>20:58:07</td>\n",
       "      <td>Wednesday</td>\n",
       "    </tr>\n",
       "    <tr>\n",
       "      <th>3</th>\n",
       "      <td>A3DD03C9</td>\n",
       "      <td>Dragons in the Sunset</td>\n",
       "      <td>Fire + Ice</td>\n",
       "      <td>folk</td>\n",
       "      <td>Shelbyville</td>\n",
       "      <td>08:37:09</td>\n",
       "      <td>Monday</td>\n",
       "    </tr>\n",
       "    <tr>\n",
       "      <th>4</th>\n",
       "      <td>E2DC1FAE</td>\n",
       "      <td>Soul People</td>\n",
       "      <td>Space Echo</td>\n",
       "      <td>dance</td>\n",
       "      <td>Springfield</td>\n",
       "      <td>08:34:34</td>\n",
       "      <td>Monday</td>\n",
       "    </tr>\n",
       "    <tr>\n",
       "      <th>5</th>\n",
       "      <td>842029A1</td>\n",
       "      <td>Chains</td>\n",
       "      <td>Obladaet</td>\n",
       "      <td>rusrap</td>\n",
       "      <td>Shelbyville</td>\n",
       "      <td>13:09:41</td>\n",
       "      <td>Friday</td>\n",
       "    </tr>\n",
       "    <tr>\n",
       "      <th>6</th>\n",
       "      <td>4CB90AA5</td>\n",
       "      <td>True</td>\n",
       "      <td>Roman Messer</td>\n",
       "      <td>dance</td>\n",
       "      <td>Springfield</td>\n",
       "      <td>13:00:07</td>\n",
       "      <td>Wednesday</td>\n",
       "    </tr>\n",
       "    <tr>\n",
       "      <th>7</th>\n",
       "      <td>F03E1C1F</td>\n",
       "      <td>Feeling This Way</td>\n",
       "      <td>Polina Griffith</td>\n",
       "      <td>dance</td>\n",
       "      <td>Springfield</td>\n",
       "      <td>20:47:49</td>\n",
       "      <td>Wednesday</td>\n",
       "    </tr>\n",
       "    <tr>\n",
       "      <th>8</th>\n",
       "      <td>8FA1D3BE</td>\n",
       "      <td>L’estate</td>\n",
       "      <td>Julia Dalia</td>\n",
       "      <td>ruspop</td>\n",
       "      <td>Springfield</td>\n",
       "      <td>09:17:40</td>\n",
       "      <td>Friday</td>\n",
       "    </tr>\n",
       "    <tr>\n",
       "      <th>9</th>\n",
       "      <td>E772D5C0</td>\n",
       "      <td>Pessimist</td>\n",
       "      <td>NaN</td>\n",
       "      <td>dance</td>\n",
       "      <td>Shelbyville</td>\n",
       "      <td>21:20:49</td>\n",
       "      <td>Wednesday</td>\n",
       "    </tr>\n",
       "  </tbody>\n",
       "</table>\n",
       "</div>"
      ],
      "text/plain": [
       "     userID                        Track            artist   genre  \\\n",
       "0  FFB692EC            Kamigata To Boots  The Mass Missile    rock   \n",
       "1  55204538  Delayed Because of Accident  Andreas Rönnberg    rock   \n",
       "2    20EC38            Funiculì funiculà       Mario Lanza     pop   \n",
       "3  A3DD03C9        Dragons in the Sunset        Fire + Ice    folk   \n",
       "4  E2DC1FAE                  Soul People        Space Echo   dance   \n",
       "5  842029A1                       Chains          Obladaet  rusrap   \n",
       "6  4CB90AA5                         True      Roman Messer   dance   \n",
       "7  F03E1C1F             Feeling This Way   Polina Griffith   dance   \n",
       "8  8FA1D3BE                     L’estate       Julia Dalia  ruspop   \n",
       "9  E772D5C0                    Pessimist               NaN   dance   \n",
       "\n",
       "        City        time        Day  \n",
       "0  Shelbyville  20:28:33  Wednesday  \n",
       "1  Springfield  14:07:09     Friday  \n",
       "2  Shelbyville  20:58:07  Wednesday  \n",
       "3  Shelbyville  08:37:09     Monday  \n",
       "4  Springfield  08:34:34     Monday  \n",
       "5  Shelbyville  13:09:41     Friday  \n",
       "6  Springfield  13:00:07  Wednesday  \n",
       "7  Springfield  20:47:49  Wednesday  \n",
       "8  Springfield  09:17:40     Friday  \n",
       "9  Shelbyville  21:20:49  Wednesday  "
      ]
     },
     "execution_count": 41,
     "metadata": {},
     "output_type": "execute_result"
    }
   ],
   "source": [
    "# Obtener las 10 primeras filas de la tabla df\n",
    "df.head(10)"
   ]
  },
  {
   "cell_type": "code",
   "execution_count": 42,
   "metadata": {
    "id": "DSf2kIb-_Zct",
    "trusted": true
   },
   "outputs": [
    {
     "name": "stdout",
     "output_type": "stream",
     "text": [
      "<class 'pandas.core.frame.DataFrame'>\n",
      "RangeIndex: 65079 entries, 0 to 65078\n",
      "Data columns (total 7 columns):\n",
      " #   Column    Non-Null Count  Dtype \n",
      "---  ------    --------------  ----- \n",
      " 0     userID  65079 non-null  object\n",
      " 1   Track     63736 non-null  object\n",
      " 2   artist    57512 non-null  object\n",
      " 3   genre     63881 non-null  object\n",
      " 4     City    65079 non-null  object\n",
      " 5   time      65079 non-null  object\n",
      " 6   Day       65079 non-null  object\n",
      "dtypes: object(7)\n",
      "memory usage: 3.5+ MB\n",
      "None\n"
     ]
    }
   ],
   "source": [
    "# Obtener la información general sobre nuestros datos\n",
    "print(df.info())"
   ]
  },
  {
   "cell_type": "markdown",
   "metadata": {
    "id": "TaQ2Iwbr_Zct"
   },
   "source": [
    "Según lo observado en la tabla. Contiene siete columnas. Almacenan los mismos tipos de datos: `object`.\n",
    "\n",
    "Según la documentación:\n",
    "- `' userID'`: identificador del usuario o la usuaria;\n",
    "- `'Track'`: título de la canción;\n",
    "- `'artist'`: nombre del artista;\n",
    "- `'genre'`: género de la pista;\n",
    "- `'City'`: ciudad del usuario o la usuaria;\n",
    "- `'time'`: la hora exacta en la que se reprodujo la canción;\n",
    "- `'Day'`: día de la semana.\n",
    "\n",
    "Podemos ver tres problemas con el estilo en los encabezados de la tabla:\n",
    "1. Algunos encabezados están en mayúsculas, otros en minúsculas.\n",
    "2. Hay espacios en algunos encabezados.\n",
    "3. Es importante usar \"_\" para separar palabras en nombres de variables como user_id, de esta manera es más legible y comprensible para cualquiera que vea el código.\n",
    "\n"
   ]
  },
  {
   "cell_type": "markdown",
   "metadata": {},
   "source": [
    "##  Etapa 2. Preprocesamiento de datos <a id='preprocesamiento'></a>"
   ]
  },
  {
   "cell_type": "markdown",
   "metadata": {},
   "source": [
    " ### Normalización de nombres de columnas"
   ]
  },
  {
   "cell_type": "code",
   "execution_count": 43,
   "metadata": {
    "id": "oKOTdF_Q_Zct",
    "trusted": true
   },
   "outputs": [
    {
     "name": "stdout",
     "output_type": "stream",
     "text": [
      "Index(['  userID', 'Track', 'artist', 'genre', '  City  ', 'time', 'Day'], dtype='object')\n"
     ]
    }
   ],
   "source": [
    "# Muestra los nombres de las columnas\n",
    "print(df.columns)"
   ]
  },
  {
   "cell_type": "code",
   "execution_count": 44,
   "metadata": {},
   "outputs": [
    {
     "name": "stdout",
     "output_type": "stream",
     "text": [
      "Index(['userid', 'track', 'artist', 'genre', 'city', 'time', 'day'], dtype='object')\n"
     ]
    }
   ],
   "source": [
    "columns_limpias = []  # Lista para guardar los nuevos nombres de columnas\n",
    "\n",
    "for column in df.columns:\n",
    "    # 1. Quitar espacios al inicio y al final\n",
    "    columna = column.strip()\n",
    "    # 2. Convertir a minúsculas\n",
    "    columna = columna.lower()\n",
    "    # 4. Agregar a la lista\n",
    "    columns_limpias.append(columna)\n",
    "\n",
    "# Asignar los nuevos nombres al DataFrame\n",
    "df.columns = columns_limpias\n",
    "\n",
    "# Verifica el resultado\n",
    "print(df.columns)"
   ]
  },
  {
   "cell_type": "code",
   "execution_count": 45,
   "metadata": {
    "id": "ISlFqs5y_Zct",
    "trusted": true
   },
   "outputs": [
    {
     "name": "stdout",
     "output_type": "stream",
     "text": [
      "Index(['user_id', 'track', 'artist', 'genre', 'city', 'time', 'day'], dtype='object')\n"
     ]
    }
   ],
   "source": [
    "# Cambiar el nombre de la columna \"userid\"\n",
    "df.rename(columns={'userid': 'user_id'}, inplace=True)\n",
    "print(df.columns)"
   ]
  },
  {
   "cell_type": "markdown",
   "metadata": {
    "id": "5ISfbcfY_Zct"
   },
   "source": [
    "### Valores ausentes"
   ]
  },
  {
   "cell_type": "code",
   "execution_count": 46,
   "metadata": {
    "id": "RskX29qr_Zct",
    "trusted": true
   },
   "outputs": [
    {
     "name": "stdout",
     "output_type": "stream",
     "text": [
      "user_id       0\n",
      "track      1343\n",
      "artist     7567\n",
      "genre      1198\n",
      "city          0\n",
      "time          0\n",
      "day           0\n",
      "dtype: int64\n"
     ]
    }
   ],
   "source": [
    "# Calcular el número de valores ausentes\n",
    "null_values = df.isnull().sum()\n",
    "print(null_values)"
   ]
  },
  {
   "cell_type": "markdown",
   "metadata": {
    "id": "qubhgnlO_Zct"
   },
   "source": [
    "Los valores ausentes en `track` , `artist`, `'genre'` pueden afectar la comparación entre las preferencias musicales de Springfield y Shelbyville. Debido a que no se puede saber las razones por las cuales hay datos ausentes en esas columnas. Se hará lo siguiente:\n",
    "* rellenar estos valores ausentes con un valor predeterminado;\n",
    "* evaluar cuánto podrían afectar los valores ausentes a los cómputos."
   ]
  },
  {
   "cell_type": "code",
   "execution_count": 47,
   "metadata": {
    "id": "KplB5qWs_Zct",
    "trusted": true
   },
   "outputs": [
    {
     "name": "stdout",
     "output_type": "stream",
     "text": [
      "<class 'pandas.core.frame.DataFrame'>\n",
      "RangeIndex: 65079 entries, 0 to 65078\n",
      "Data columns (total 7 columns):\n",
      " #   Column   Non-Null Count  Dtype \n",
      "---  ------   --------------  ----- \n",
      " 0   user_id  65079 non-null  object\n",
      " 1   track    65079 non-null  object\n",
      " 2   artist   65079 non-null  object\n",
      " 3   genre    65079 non-null  object\n",
      " 4   city     65079 non-null  object\n",
      " 5   time     65079 non-null  object\n",
      " 6   day      65079 non-null  object\n",
      "dtypes: object(7)\n",
      "memory usage: 3.5+ MB\n",
      "None\n"
     ]
    },
    {
     "name": "stderr",
     "output_type": "stream",
     "text": [
      "C:\\Users\\ceci-\\AppData\\Local\\Temp\\ipykernel_21984\\3736129519.py:4: FutureWarning: A value is trying to be set on a copy of a DataFrame or Series through chained assignment using an inplace method.\n",
      "The behavior will change in pandas 3.0. This inplace method will never work because the intermediate object on which we are setting values always behaves as a copy.\n",
      "\n",
      "For example, when doing 'df[col].method(value, inplace=True)', try using 'df.method({col: value}, inplace=True)' or df[col] = df[col].method(value) instead, to perform the operation inplace on the original object.\n",
      "\n",
      "\n",
      "  df[col].fillna('unknown', inplace=True)\n"
     ]
    }
   ],
   "source": [
    "columns_to_replace = ['track','artist','genre']\n",
    "\n",
    "for col in columns_to_replace:\n",
    "    df[col].fillna('unknown', inplace=True)\n",
    "print(df.info())"
   ]
  },
  {
   "cell_type": "code",
   "execution_count": 48,
   "metadata": {
    "id": "Tq4nYRX4_Zct",
    "trusted": true
   },
   "outputs": [
    {
     "name": "stdout",
     "output_type": "stream",
     "text": [
      "user_id    0\n",
      "track      0\n",
      "artist     0\n",
      "genre      0\n",
      "city       0\n",
      "time       0\n",
      "day        0\n",
      "dtype: int64\n"
     ]
    }
   ],
   "source": [
    "# Calcular el número de valores ausentes\n",
    "valores_ausentes_now = df.isnull().sum()\n",
    "# Contar valores ausentes\n",
    "print(valores_ausentes_now)"
   ]
  },
  {
   "cell_type": "markdown",
   "metadata": {
    "id": "BWKRtBJ3_Zct"
   },
   "source": [
    "### Valores Duplicados "
   ]
  },
  {
   "cell_type": "code",
   "execution_count": 49,
   "metadata": {
    "id": "36eES_S0_Zct",
    "trusted": true
   },
   "outputs": [
    {
     "name": "stdout",
     "output_type": "stream",
     "text": [
      "3826\n"
     ]
    }
   ],
   "source": [
    "# Contar duplicados explícitos\n",
    "print(df.duplicated().sum())"
   ]
  },
  {
   "cell_type": "code",
   "execution_count": 50,
   "metadata": {
    "id": "exFHq6tt_Zct",
    "trusted": true
   },
   "outputs": [],
   "source": [
    "# Eliminar duplicados explícitos\n",
    "df.drop_duplicates(inplace=True)"
   ]
  },
  {
   "cell_type": "code",
   "execution_count": 51,
   "metadata": {
    "id": "-8PuNWQ0_Zct",
    "trusted": true
   },
   "outputs": [
    {
     "name": "stdout",
     "output_type": "stream",
     "text": [
      "0\n"
     ]
    }
   ],
   "source": [
    "# Comprobar de nuevo si hay duplicados\n",
    "print(df.duplicated().sum()) "
   ]
  },
  {
   "cell_type": "markdown",
   "metadata": {
    "id": "QlFBsxAr_Zct"
   },
   "source": [
    "Eliminar los duplicados implícitos en la columna `genre`. Por ejemplo, el nombre de un género se puede escribir de varias formas. Dichos errores también pueden afectar al resultado."
   ]
  },
  {
   "cell_type": "markdown",
   "metadata": {
    "id": "eSjWwsOh_Zct"
   },
   "source": [
    "Para hacerlo, primero mostremos una lista de nombres de género únicos, ordenados en orden alfabético."
   ]
  },
  {
   "cell_type": "code",
   "execution_count": 52,
   "metadata": {
    "id": "JIUcqzZN_Zct",
    "trusted": true
   },
   "outputs": [
    {
     "name": "stdout",
     "output_type": "stream",
     "text": [
      "['rock' 'pop' 'folk' 'dance' 'rusrap' 'ruspop' 'world' 'electronic'\n",
      " 'unknown' 'alternative' 'children' 'rnb' 'hip' 'jazz' 'postrock' 'latin'\n",
      " 'classical' 'metal' 'reggae' 'triphop' 'blues' 'instrumental' 'rusrock'\n",
      " 'dnb' 'türk' 'post' 'country' 'psychedelic' 'conjazz' 'indie'\n",
      " 'posthardcore' 'local' 'avantgarde' 'punk' 'videogame' 'techno' 'house'\n",
      " 'christmas' 'melodic' 'caucasian' 'reggaeton' 'soundtrack' 'singer' 'ska'\n",
      " 'salsa' 'ambient' 'film' 'western' 'rap' 'beats' \"hard'n'heavy\"\n",
      " 'progmetal' 'minimal' 'tropical' 'contemporary' 'new' 'soul' 'holiday'\n",
      " 'german' 'jpop' 'spiritual' 'urban' 'gospel' 'nujazz' 'folkmetal'\n",
      " 'trance' 'miscellaneous' 'anime' 'hardcore' 'progressive' 'korean'\n",
      " 'numetal' 'vocal' 'estrada' 'tango' 'loungeelectronic' 'classicmetal'\n",
      " 'dubstep' 'club' 'deep' 'southern' 'black' 'folkrock' 'fitness' 'french'\n",
      " 'disco' 'religious' 'hiphop' 'drum' 'extrememetal' 'türkçe'\n",
      " 'experimental' 'easy' 'metalcore' 'modern' 'argentinetango' 'old' 'swing'\n",
      " 'breaks' 'eurofolk' 'stonerrock' 'industrial' 'funk' 'middle' 'variété'\n",
      " 'other' 'adult' 'christian' 'thrash' 'gothic' 'international' 'muslim'\n",
      " 'relax' 'schlager' 'caribbean' 'nu' 'breakbeat' 'comedy' 'chill' 'newage'\n",
      " 'specialty' 'uzbek' 'k-pop' 'balkan' 'chinese' 'meditative' 'dub' 'power'\n",
      " 'death' 'grime' 'arabesk' 'romance' 'flamenco' 'leftfield' 'european'\n",
      " 'tech' 'newwave' 'dancehall' 'mpb' 'piano' 'top' 'bigroom' 'opera'\n",
      " 'celtic' 'tradjazz' 'acoustic' 'epicmetal' 'hip-hop' 'historisch'\n",
      " 'downbeat' 'downtempo' 'africa' 'audiobook' 'jewish' 'sängerportrait'\n",
      " 'deutschrock' 'eastern' 'action' 'future' 'electropop' 'folklore'\n",
      " 'bollywood' 'marschmusik' 'rnr' 'karaoke' 'indian' 'rancheras'\n",
      " 'afrikaans' 'rhythm' 'sound' 'deutschspr' 'trip' 'lovers' 'choral'\n",
      " 'dancepop' 'retro' 'smooth' 'mexican' 'brazilian' 'ïîï' 'mood' 'surf'\n",
      " 'gangsta' 'inspirational' 'idm' 'ethnic' 'bluegrass' 'broadway'\n",
      " 'animated' 'americana' 'karadeniz' 'rockabilly' 'colombian' 'self' 'hop'\n",
      " 'sertanejo' 'japanese' 'canzone' 'lounge' 'sport' 'ragga' 'traditional'\n",
      " 'gitarre' 'frankreich' 'emo' 'laiko' 'cantopop' 'glitch' 'documentary'\n",
      " 'oceania' 'popeurodance' 'dark' 'vi' 'grunge' 'hardstyle' 'samba'\n",
      " 'garage' 'art' 'folktronica' 'entehno' 'mediterranean' 'chamber' 'cuban'\n",
      " 'taraftar' 'gypsy' 'hardtechno' 'shoegazing' 'bossa' 'latino' 'worldbeat'\n",
      " 'malaysian' 'baile' 'ghazal' 'arabic' 'popelectronic' 'acid' 'kayokyoku'\n",
      " 'neoklassik' 'tribal' 'tanzorchester' 'native' 'independent' 'cantautori'\n",
      " 'handsup' 'punjabi' 'synthpop' 'rave' 'französisch' 'quebecois' 'speech'\n",
      " 'soulful' 'jam' 'ram' 'horror' 'orchestral' 'neue' 'roots' 'slow'\n",
      " 'jungle' 'indipop' 'axé' 'fado' 'showtunes' 'arena' 'irish' 'mandopop'\n",
      " 'forró' 'dirty' 'regional']\n",
      "269\n"
     ]
    }
   ],
   "source": [
    "# Inspeccionar los nombres de géneros únicos\n",
    "print(df['genre'].unique()) \n",
    "print(df['genre'].nunique())"
   ]
  },
  {
   "cell_type": "markdown",
   "metadata": {
    "id": "qej-Qmuo_Zct"
   },
   "source": [
    "Se encontró los siguientes duplicados implícitos:\n",
    "* `hip`\n",
    "* `hop`\n",
    "* `hip-hop`\n",
    "\n",
    "Para deshacerme de ellos, voy a crear una función llamada `replace_wrong_genres()` con dos parámetros:\n",
    "* `wrong_genres=`: esta es una lista que contiene todos los valores que necesito reemplazar.\n",
    "* `correct_genre=`: este es un string que voy a utilizar como reemplazo."
   ]
  },
  {
   "cell_type": "code",
   "execution_count": 53,
   "metadata": {
    "id": "ErNDkmns_Zct",
    "trusted": true
   },
   "outputs": [],
   "source": [
    "# Función para reemplazar duplicados implícitos\n",
    "def replace_wrong_genres(df, column, wrong_values, correct_value):\n",
    "    for wrong_value in wrong_values:\n",
    "        df[column] = df[column].replace(wrong_value, correct_value) \n",
    "    return df\n",
    "\n",
    "wrong_genre = ['hip', 'hop','hip-hop']\n",
    "correct_genre = 'hiphop'\n",
    "df = replace_wrong_genres(df, 'genre', wrong_genre , correct_genre) "
   ]
  },
  {
   "cell_type": "code",
   "execution_count": 54,
   "metadata": {
    "id": "wvixALnFG15m",
    "trusted": true
   },
   "outputs": [
    {
     "name": "stdout",
     "output_type": "stream",
     "text": [
      "['rock' 'pop' 'folk' 'dance' 'rusrap' 'ruspop' 'world' 'electronic'\n",
      " 'unknown' 'alternative' 'children' 'rnb' 'hiphop' 'jazz' 'postrock'\n",
      " 'latin' 'classical' 'metal' 'reggae' 'triphop' 'blues' 'instrumental'\n",
      " 'rusrock' 'dnb' 'türk' 'post' 'country' 'psychedelic' 'conjazz' 'indie'\n",
      " 'posthardcore' 'local' 'avantgarde' 'punk' 'videogame' 'techno' 'house'\n",
      " 'christmas' 'melodic' 'caucasian' 'reggaeton' 'soundtrack' 'singer' 'ska'\n",
      " 'salsa' 'ambient' 'film' 'western' 'rap' 'beats' \"hard'n'heavy\"\n",
      " 'progmetal' 'minimal' 'tropical' 'contemporary' 'new' 'soul' 'holiday'\n",
      " 'german' 'jpop' 'spiritual' 'urban' 'gospel' 'nujazz' 'folkmetal'\n",
      " 'trance' 'miscellaneous' 'anime' 'hardcore' 'progressive' 'korean'\n",
      " 'numetal' 'vocal' 'estrada' 'tango' 'loungeelectronic' 'classicmetal'\n",
      " 'dubstep' 'club' 'deep' 'southern' 'black' 'folkrock' 'fitness' 'french'\n",
      " 'disco' 'religious' 'drum' 'extrememetal' 'türkçe' 'experimental' 'easy'\n",
      " 'metalcore' 'modern' 'argentinetango' 'old' 'swing' 'breaks' 'eurofolk'\n",
      " 'stonerrock' 'industrial' 'funk' 'middle' 'variété' 'other' 'adult'\n",
      " 'christian' 'thrash' 'gothic' 'international' 'muslim' 'relax' 'schlager'\n",
      " 'caribbean' 'nu' 'breakbeat' 'comedy' 'chill' 'newage' 'specialty'\n",
      " 'uzbek' 'k-pop' 'balkan' 'chinese' 'meditative' 'dub' 'power' 'death'\n",
      " 'grime' 'arabesk' 'romance' 'flamenco' 'leftfield' 'european' 'tech'\n",
      " 'newwave' 'dancehall' 'mpb' 'piano' 'top' 'bigroom' 'opera' 'celtic'\n",
      " 'tradjazz' 'acoustic' 'epicmetal' 'historisch' 'downbeat' 'downtempo'\n",
      " 'africa' 'audiobook' 'jewish' 'sängerportrait' 'deutschrock' 'eastern'\n",
      " 'action' 'future' 'electropop' 'folklore' 'bollywood' 'marschmusik' 'rnr'\n",
      " 'karaoke' 'indian' 'rancheras' 'afrikaans' 'rhythm' 'sound' 'deutschspr'\n",
      " 'trip' 'lovers' 'choral' 'dancepop' 'retro' 'smooth' 'mexican'\n",
      " 'brazilian' 'ïîï' 'mood' 'surf' 'gangsta' 'inspirational' 'idm' 'ethnic'\n",
      " 'bluegrass' 'broadway' 'animated' 'americana' 'karadeniz' 'rockabilly'\n",
      " 'colombian' 'self' 'sertanejo' 'japanese' 'canzone' 'lounge' 'sport'\n",
      " 'ragga' 'traditional' 'gitarre' 'frankreich' 'emo' 'laiko' 'cantopop'\n",
      " 'glitch' 'documentary' 'oceania' 'popeurodance' 'dark' 'vi' 'grunge'\n",
      " 'hardstyle' 'samba' 'garage' 'art' 'folktronica' 'entehno'\n",
      " 'mediterranean' 'chamber' 'cuban' 'taraftar' 'gypsy' 'hardtechno'\n",
      " 'shoegazing' 'bossa' 'latino' 'worldbeat' 'malaysian' 'baile' 'ghazal'\n",
      " 'arabic' 'popelectronic' 'acid' 'kayokyoku' 'neoklassik' 'tribal'\n",
      " 'tanzorchester' 'native' 'independent' 'cantautori' 'handsup' 'punjabi'\n",
      " 'synthpop' 'rave' 'französisch' 'quebecois' 'speech' 'soulful' 'jam'\n",
      " 'ram' 'horror' 'orchestral' 'neue' 'roots' 'slow' 'jungle' 'indipop'\n",
      " 'axé' 'fado' 'showtunes' 'arena' 'irish' 'mandopop' 'forró' 'dirty'\n",
      " 'regional']\n",
      "266\n"
     ]
    }
   ],
   "source": [
    "# Comprobación de duplicados implícitos\n",
    "print(df['genre'].unique())\n",
    "print(df['genre'].nunique())"
   ]
  },
  {
   "cell_type": "markdown",
   "metadata": {
    "id": "jz6a9-7HQUDd"
   },
   "source": [
    "### Observaciones <a id='data_preprocessing_conclusions'></a>\n",
    "\n",
    "Se encontró 3826 valores duplicados, se eliminaron esos valores duplicados, quedando solo 61253 filas con las cuales trabajar. Después se corrigió los duplicados implícitos en la columna 'genre', para ello fue importante identificar los valores únicos , identificar los valores a cambiar y establecer el valor que predominará.En nuestro caso primero habían 269 valores únicos y después de corregir los duplicados implícitos quedaron 266 valores únicos."
   ]
  },
  {
   "cell_type": "markdown",
   "metadata": {
    "id": "WttZHXH0SqKk"
   },
   "source": [
    "## Etapa 3. Análisis exploratorio de datos <a id='eda'></a>"
   ]
  },
  {
   "cell_type": "markdown",
   "metadata": {},
   "source": [
    "### Análisis por Usuario"
   ]
  },
  {
   "cell_type": "code",
   "execution_count": 55,
   "metadata": {},
   "outputs": [
    {
     "name": "stdout",
     "output_type": "stream",
     "text": [
      "              city   user_id  count\n",
      "0      Shelbyville  100173ED      1\n",
      "1      Shelbyville  10089377      3\n",
      "2      Shelbyville  10101201      2\n",
      "3      Shelbyville  101861D1      2\n",
      "4      Shelbyville  10189D10      4\n",
      "...            ...       ...    ...\n",
      "41776  Springfield  FFF91C68      1\n",
      "41777  Springfield  FFF92382      1\n",
      "41778  Springfield  FFF965B2      2\n",
      "41779  Springfield   FFFBB52      4\n",
      "41780  Springfield   FFFD03A      1\n",
      "\n",
      "[41781 rows x 3 columns]\n"
     ]
    }
   ],
   "source": [
    "# Contar cuántas veces aparece cada usuario\n",
    "user_activity = df.groupby(['city', 'user_id'])['track'].count().reset_index(name='count')\n",
    "# Mostrar los resultados\n",
    "print(user_activity)"
   ]
  },
  {
   "cell_type": "code",
   "execution_count": 56,
   "metadata": {},
   "outputs": [
    {
     "data": {
      "image/png": "[encoded data removed]",
      "text/plain": [
       "<Figure size 640x480 with 1 Axes>"
      ]
     },
     "metadata": {},
     "output_type": "display_data"
    }
   ],
   "source": [
    "# Histograma con límites hasta count = 15\n",
    "sns.histplot(\n",
    "    data=user_activity,\n",
    "    x='count',\n",
    "    hue='city',\n",
    "    multiple='layer',\n",
    "    bins=range(1, 17),  # de 1 a 16 para incluir el bin de 15\n",
    "    discrete=True\n",
    ")\n",
    "\n",
    "plt.title('Histograma de distribución de canciones por usuario')\n",
    "plt.xlabel('cantidad de canciones que ha escuchado un usuario')\n",
    "plt.ylabel('Número de usuarios')\n",
    "plt.xticks(range(1, 16))  # ticks del eje x hasta 15\n",
    "plt.xlim(0.5, 15.5)       # límite del eje x visualmente hasta 15\n",
    "plt.tight_layout()\n",
    "plt.show()\n"
   ]
  },
  {
   "cell_type": "markdown",
   "metadata": {},
   "source": [
    "### Análisis por Género Musical"
   ]
  },
  {
   "cell_type": "code",
   "execution_count": 57,
   "metadata": {},
   "outputs": [
    {
     "name": "stdout",
     "output_type": "stream",
     "text": [
      "Número de géneros únicos en todo el dataset: 266\n"
     ]
    }
   ],
   "source": [
    "num_generos_unicos = df['genre'].nunique()\n",
    "print(f\"Número de géneros únicos en todo el dataset: {num_generos_unicos}\")"
   ]
  },
  {
   "cell_type": "code",
   "execution_count": 58,
   "metadata": {},
   "outputs": [
    {
     "data": {
      "text/plain": [
       "city\n",
       "Shelbyville    202\n",
       "Springfield    250\n",
       "Name: genre, dtype: int64"
      ]
     },
     "execution_count": 58,
     "metadata": {},
     "output_type": "execute_result"
    }
   ],
   "source": [
    "df.groupby('city')['genre'].nunique()"
   ]
  },
  {
   "cell_type": "code",
   "execution_count": 59,
   "metadata": {},
   "outputs": [
    {
     "name": "stdout",
     "output_type": "stream",
     "text": [
      "           city        genre  count\n",
      "0   Shelbyville          pop   2431\n",
      "1   Shelbyville        dance   1932\n",
      "2   Shelbyville         rock   1879\n",
      "3   Shelbyville   electronic   1736\n",
      "4   Shelbyville       hiphop    960\n",
      "5   Shelbyville  alternative    649\n",
      "6   Shelbyville    classical    646\n",
      "7   Shelbyville       rusrap    564\n",
      "8   Shelbyville       ruspop    538\n",
      "9   Shelbyville        world    515\n",
      "10  Springfield          pop   5892\n",
      "11  Springfield        dance   4435\n",
      "12  Springfield         rock   3965\n",
      "13  Springfield   electronic   3786\n",
      "14  Springfield       hiphop   2096\n",
      "15  Springfield    classical   1616\n",
      "16  Springfield        world   1432\n",
      "17  Springfield  alternative   1379\n",
      "18  Springfield       ruspop   1372\n",
      "19  Springfield       rusrap   1161\n"
     ]
    }
   ],
   "source": [
    "#Agrupar y contar tracks por ciudad y género\n",
    "top_genre_per_city = (\n",
    "    df.groupby(['city', 'genre'])['track']\n",
    "      .count()\n",
    "      .reset_index(name='count')  # asignar un nombre claro a la columna de conteo\n",
    ")\n",
    "\n",
    "# Ordenar de mayor a menor por conteo y obtener top 10 géneros por ciudad\n",
    "top_genre = (\n",
    "    top_genre_per_city\n",
    "    .sort_values(['city', 'count'], ascending=[True, False])\n",
    "    .groupby('city')\n",
    "    .head(10)\n",
    "    .reset_index(drop=True)\n",
    ")\n",
    "\n",
    "print(top_genre)"
   ]
  },
  {
   "cell_type": "code",
   "execution_count": 60,
   "metadata": {},
   "outputs": [
    {
     "data": {
      "image/png": "[encoded data removed]",
      "text/plain": [
       "<Figure size 1400x800 with 1 Axes>"
      ]
     },
     "metadata": {},
     "output_type": "display_data"
    }
   ],
   "source": [
    "plt.figure(figsize=(14,8))\n",
    "sns.barplot(data=top_genre, x='count', y='genre', hue='city', dodge=True, palette='Set2')\n",
    "\n",
    "plt.title('Top 10 géneros más escuchados por ciudad')\n",
    "plt.xlabel('Cantidad de reproducciones')\n",
    "plt.ylabel('Género')\n",
    "plt.legend(title='Ciudad')\n",
    "plt.tight_layout()\n",
    "plt.show()"
   ]
  },
  {
   "cell_type": "markdown",
   "metadata": {},
   "source": [
    "### Análisis Temporal del Consumo Musical"
   ]
  },
  {
   "cell_type": "code",
   "execution_count": 61,
   "metadata": {},
   "outputs": [
    {
     "name": "stdout",
     "output_type": "stream",
     "text": [
      "Reproducciones por ciudad:\n",
      "city\n",
      "Shelbyville    18512\n",
      "Springfield    42741\n",
      "Name: track, dtype: int64\n"
     ]
    }
   ],
   "source": [
    "# Contar canciones reproducidas por ciudad\n",
    "reproducciones_por_ciudad = df.groupby('city')['track'].count()\n",
    "\n",
    "# Mostrar resultados\n",
    "print(\"Reproducciones por ciudad:\")\n",
    "print(reproducciones_por_ciudad)"
   ]
  },
  {
   "cell_type": "code",
   "execution_count": 62,
   "metadata": {},
   "outputs": [
    {
     "name": "stdout",
     "output_type": "stream",
     "text": [
      "Canciones reproducidas por día y ciudad:\n",
      "city         day      \n",
      "Springfield  Friday       15945\n",
      "             Monday       15740\n",
      "             Wednesday    11056\n",
      "Shelbyville  Wednesday     7003\n",
      "             Friday        5895\n",
      "             Monday        5614\n",
      "Name: track, dtype: int64\n"
     ]
    }
   ],
   "source": [
    "# Agrupar por ciudad y día, contar canciones, y ordenar dentro de cada ciudad\n",
    "songs_by_day_city = df.groupby(['city', 'day'])['track'].count()\n",
    "songs_by_day_city = songs_by_day_city.sort_values(ascending=False)\n",
    "\n",
    "print(\"Canciones reproducidas por día y ciudad:\")\n",
    "print(songs_by_day_city)"
   ]
  },
  {
   "cell_type": "code",
   "execution_count": 63,
   "metadata": {},
   "outputs": [
    {
     "data": {
      "image/png": "[encoded data removed]",
      "text/plain": [
       "<Figure size 1000x400 with 1 Axes>"
      ]
     },
     "metadata": {},
     "output_type": "display_data"
    }
   ],
   "source": [
    "songs_by_day_city = df.groupby(['city', 'day'])['track'].count().reset_index(name='count')\n",
    "plt.figure(figsize=(10,4))\n",
    "sns.barplot(data=songs_by_day_city, x='day', y='count', hue='city', palette='Set2')\n",
    "\n",
    "plt.title('Cantidad de canciones reproducidas por día y ciudad')\n",
    "plt.xlabel('Día')\n",
    "plt.ylabel('Cantidad de canciones')\n",
    "plt.legend(title='Ciudad')\n",
    "plt.tight_layout()\n",
    "plt.show()"
   ]
  },
  {
   "cell_type": "code",
   "execution_count": 64,
   "metadata": {},
   "outputs": [
    {
     "name": "stderr",
     "output_type": "stream",
     "text": [
      "C:\\Users\\ceci-\\AppData\\Local\\Temp\\ipykernel_21984\\4238688263.py:3: UserWarning: Could not infer format, so each element will be parsed individually, falling back to `dateutil`. To ensure parsing is consistent and as-expected, please specify a format.\n",
      "  df['hour'] = pd.to_datetime(df['time']).dt.hour\n"
     ]
    },
    {
     "data": {
      "image/png": "[encoded data removed]",
      "text/plain": [
       "<Figure size 1211.11x400 with 2 Axes>"
      ]
     },
     "metadata": {},
     "output_type": "display_data"
    }
   ],
   "source": [
    "# Distribucion de canciones por hora y ciudad\n",
    "# Asegúrate que tienes la columna 'hour'\n",
    "df['hour'] = pd.to_datetime(df['time']).dt.hour\n",
    "\n",
    "sns.catplot(\n",
    "    data=df,\n",
    "    x='hour',\n",
    "    kind='count',\n",
    "    col='city',\n",
    "    col_wrap=2,  # Ajusta según número de ciudades\n",
    "    height=4,\n",
    "    aspect=1.5,\n",
    "    color='skyblue'\n",
    ")\n",
    "\n",
    "plt.subplots_adjust(top=0.8)\n",
    "plt.suptitle('Distribución de reproducciones por hora y ciudad')\n",
    "plt.show()"
   ]
  },
  {
   "cell_type": "code",
   "execution_count": 65,
   "metadata": {},
   "outputs": [
    {
     "name": "stdout",
     "output_type": "stream",
     "text": [
      "momento_dia            madrugada  mañana  noche  tarde\n",
      "city        day                                       \n",
      "Shelbyville Friday          1032    1726   1034   2103\n",
      "            Monday           972    1605   1014   2023\n",
      "            Wednesday       1182    2060   1249   2512\n",
      "Springfield Friday          2540    5493   2754   5158\n",
      "            Monday          2455    5258   2780   5247\n",
      "            Wednesday       1849    3050   1998   4159\n"
     ]
    }
   ],
   "source": [
    "# Análisis de escuchas por ciudad, día de la semana y momento del día\n",
    "# Crear columna de franja horaria\n",
    "def clasificar_momento(hora):\n",
    "    if 5 <= hora < 12:\n",
    "        return 'mañana'\n",
    "    elif 12 <= hora < 17:\n",
    "        return 'tarde'\n",
    "    elif 17 <= hora < 21:\n",
    "        return 'noche'\n",
    "    else:\n",
    "        return 'madrugada'\n",
    "\n",
    "df['momento_dia'] = df['hour'].apply(clasificar_momento)\n",
    "\n",
    "# Tabla cruzada: ciudad + día vs momento del día\n",
    "tabla_cruzada_ciudad = pd.crosstab(\n",
    "    [df['city'], df['day']],  # filas: ciudad y día\n",
    "    df['momento_dia']         # columnas: momento del día\n",
    ")\n",
    "\n",
    "print(tabla_cruzada_ciudad)\n"
   ]
  },
  {
   "cell_type": "code",
   "execution_count": 66,
   "metadata": {},
   "outputs": [
    {
     "data": {
      "image/png": "[encoded data removed]",
      "text/plain": [
       "<Figure size 640x480 with 1 Axes>"
      ]
     },
     "metadata": {},
     "output_type": "display_data"
    },
    {
     "data": {
      "image/png": "[encoded data removed]",
      "text/plain": [
       "<Figure size 640x480 with 1 Axes>"
      ]
     },
     "metadata": {},
     "output_type": "display_data"
    }
   ],
   "source": [
    "# Gráfico por ciudad\n",
    "tabla_cruzada_ciudad.loc['Springfield'].plot(kind='bar', stacked=True, title='Springfield')\n",
    "plt.ylabel('Cantidad de Escuchas')\n",
    "plt.legend(title='Momento del día', bbox_to_anchor=(1.05, 1), loc='upper left') \n",
    "plt.tight_layout()\n",
    "plt.show()\n",
    "\n",
    "tabla_cruzada_ciudad.loc['Shelbyville'].plot(kind='bar', stacked=True, title='Shelbyville')\n",
    "plt.ylabel('Cantidad de Escuchas')\n",
    "plt.legend(title='Momento del día', bbox_to_anchor=(1.05, 1), loc='upper left') \n",
    "plt.tight_layout()\n",
    "plt.show()"
   ]
  },
  {
   "cell_type": "markdown",
   "metadata": {},
   "source": [
    "### Análisis por artista y canción"
   ]
  },
  {
   "cell_type": "code",
   "execution_count": 67,
   "metadata": {},
   "outputs": [
    {
     "name": "stdout",
     "output_type": "stream",
     "text": [
      "Número de artistas únicos: 37807\n"
     ]
    }
   ],
   "source": [
    "artistas_unicos = df['artist'].nunique()\n",
    "print(f\"Número de artistas únicos: {artistas_unicos}\")"
   ]
  },
  {
   "cell_type": "code",
   "execution_count": 68,
   "metadata": {},
   "outputs": [
    {
     "name": "stdout",
     "output_type": "stream",
     "text": [
      "Número de artistas únicos: city\n",
      "Shelbyville    13924\n",
      "Springfield    28627\n",
      "Name: artist, dtype: int64\n"
     ]
    }
   ],
   "source": [
    "artistas_unicos_por_ciudad = df.groupby('city')['artist'].nunique()\n",
    "print(f\"Número de artistas únicos: {artistas_unicos_por_ciudad}\")"
   ]
  },
  {
   "cell_type": "code",
   "execution_count": 69,
   "metadata": {},
   "outputs": [],
   "source": [
    "# Filtrar el DataFrame para excluir los artistas \"unknown\"\n",
    "df_filtrado = df[df['artist'] != 'unknown']\n",
    "# Contar cuántas veces fue escuchado cada artista en cada ciudad\n",
    "artistas_por_ciudad = df_filtrado.groupby(['city', 'artist']).size().reset_index(name='reproducciones')"
   ]
  },
  {
   "cell_type": "code",
   "execution_count": 70,
   "metadata": {},
   "outputs": [
    {
     "name": "stdout",
     "output_type": "stream",
     "text": [
      "           city            artist  reproducciones\n",
      "0   Shelbyville         Kartvelli              38\n",
      "1   Shelbyville             MALFA              28\n",
      "2   Shelbyville       The Seasons              28\n",
      "3   Shelbyville       Real Bodrit              27\n",
      "4   Shelbyville            Rocket              22\n",
      "5   Shelbyville        Irina Shok              19\n",
      "6   Shelbyville  Dr. Living Dead!              18\n",
      "7   Shelbyville          KoperniK              18\n",
      "8   Shelbyville           SEREBRO              18\n",
      "9   Shelbyville       Sabine Kors              18\n",
      "10  Springfield         Kartvelli              89\n",
      "11  Springfield             MALFA              81\n",
      "12  Springfield       Real Bodrit              63\n",
      "13  Springfield             RELFY              52\n",
      "14  Springfield        Irina Shok              51\n",
      "15  Springfield          KoperniK              51\n",
      "16  Springfield       The Seasons              51\n",
      "17  Springfield  Dr. Living Dead!              50\n",
      "18  Springfield  Argishty (Duduk)              49\n",
      "19  Springfield            NikitA              41\n"
     ]
    }
   ],
   "source": [
    "# Ordenar por ciudad y reproducciones descendentes\n",
    "artistas_por_ciudad = artistas_por_ciudad.sort_values(['city', 'reproducciones'], ascending=[True, False])\n",
    "\n",
    "# Obtener los top 10 por ciudad usando groupby + head(10)\n",
    "top10_artistas_por_ciudad = artistas_por_ciudad.groupby('city').head(10).reset_index(drop=True)\n",
    "\n",
    "print(top10_artistas_por_ciudad)"
   ]
  },
  {
   "cell_type": "code",
   "execution_count": 71,
   "metadata": {},
   "outputs": [
    {
     "name": "stdout",
     "output_type": "stream",
     "text": [
      "          city           track  reproducciones\n",
      "0  Shelbyville           Brand              38\n",
      "1  Shelbyville     All for You              28\n",
      "2  Shelbyville         So Long              28\n",
      "3  Shelbyville      Going Back              27\n",
      "4  Shelbyville  Moscow Calling              24\n",
      "5  Springfield           Brand              89\n",
      "6  Springfield         So Long              82\n",
      "7  Springfield      Going Back              63\n",
      "8  Springfield  Moscow Calling              63\n",
      "9  Springfield      Balenciaga              56\n"
     ]
    }
   ],
   "source": [
    "# Filtrar el DataFrame para excluir los track \"unknown\"\n",
    "df_filtrado_1 = df[df['track'] != 'unknown']\n",
    "# Contar escuchas por canción (track) y ciudad\n",
    "canciones_por_ciudad = df_filtrado_1.groupby(['city', 'track']).size().reset_index(name='reproducciones')\n",
    "\n",
    "# Ordenar por ciudad y reproducciones descendentes\n",
    "canciones_por_ciudad = canciones_por_ciudad.sort_values(['city', 'reproducciones'], ascending=[True, False])\n",
    "\n",
    "# Obtener las top 5 canciones por ciudad\n",
    "top5_canciones_por_ciudad = canciones_por_ciudad.groupby('city').head(5).reset_index(drop=True)\n",
    "\n",
    "print(top5_canciones_por_ciudad)"
   ]
  },
  {
   "cell_type": "code",
   "execution_count": 72,
   "metadata": {},
   "outputs": [
    {
     "data": {
      "text/html": [
       "<div>\n",
       "<style scoped>\n",
       "    .dataframe tbody tr th:only-of-type {\n",
       "        vertical-align: middle;\n",
       "    }\n",
       "\n",
       "    .dataframe tbody tr th {\n",
       "        vertical-align: top;\n",
       "    }\n",
       "\n",
       "    .dataframe thead th {\n",
       "        text-align: right;\n",
       "    }\n",
       "</style>\n",
       "<table border=\"1\" class=\"dataframe\">\n",
       "  <thead>\n",
       "    <tr style=\"text-align: right;\">\n",
       "      <th></th>\n",
       "      <th>genre_unknown_%</th>\n",
       "      <th>artist_unknown_%</th>\n",
       "      <th>track_unknown_%</th>\n",
       "    </tr>\n",
       "    <tr>\n",
       "      <th>day</th>\n",
       "      <th></th>\n",
       "      <th></th>\n",
       "      <th></th>\n",
       "    </tr>\n",
       "  </thead>\n",
       "  <tbody>\n",
       "    <tr>\n",
       "      <th>Friday</th>\n",
       "      <td>0.02</td>\n",
       "      <td>0.11</td>\n",
       "      <td>0.02</td>\n",
       "    </tr>\n",
       "    <tr>\n",
       "      <th>Monday</th>\n",
       "      <td>0.02</td>\n",
       "      <td>0.12</td>\n",
       "      <td>0.03</td>\n",
       "    </tr>\n",
       "    <tr>\n",
       "      <th>Wednesday</th>\n",
       "      <td>0.02</td>\n",
       "      <td>0.12</td>\n",
       "      <td>0.02</td>\n",
       "    </tr>\n",
       "  </tbody>\n",
       "</table>\n",
       "</div>"
      ],
      "text/plain": [
       "           genre_unknown_%  artist_unknown_%  track_unknown_%\n",
       "day                                                          \n",
       "Friday                0.02              0.11             0.02\n",
       "Monday                0.02              0.12             0.03\n",
       "Wednesday             0.02              0.12             0.02"
      ]
     },
     "execution_count": 72,
     "metadata": {},
     "output_type": "execute_result"
    }
   ],
   "source": [
    "genre_unknown = df[df['genre'] == 'unknown']\n",
    "genre_unknown_dia = genre_unknown.groupby('day')['genre'].size()\n",
    "# print(\"Genre = 'unknown' por día de la semana:\")\n",
    "# print(genre_unknown_dia)\n",
    "\n",
    "artist_unknown = df[df['artist'] == 'unknown']\n",
    "artist_unknown_dia = artist_unknown.groupby('day')['genre'].size()\n",
    "# print(\"artist = 'unknown' por día de la semana:\")\n",
    "# print(artist_unknown_dia)\n",
    "\n",
    "track_unknown = df[df['track'] == 'unknown']\n",
    "track_unknown_dia = track_unknown.groupby('day')['genre'].size()\n",
    "# print(\"track = 'unknown' por día de la semana:\")\n",
    "# print(track_unknown_dia)\n",
    "\n",
    "# Total de registros por día\n",
    "total_por_dia = df['day'].value_counts()\n",
    "# Calcular el porcentaje de 'unknown' por día\n",
    "genre_pct = (genre_unknown_dia / total_por_dia) \n",
    "artist_pct = (artist_unknown_dia / total_por_dia)\n",
    "track_pct = (track_unknown_dia / total_por_dia) \n",
    "\n",
    "# Unir en una sola tabla\n",
    "unknown_summary = pd.DataFrame({\n",
    "    'genre_unknown_%': genre_pct,\n",
    "    'artist_unknown_%': artist_pct,\n",
    "    'track_unknown_%': track_pct\n",
    "}).round(2)  # Redondeamos a 2 decimales\n",
    "unknown_summary\n"
   ]
  },
  {
   "cell_type": "markdown",
   "metadata": {
    "id": "Im936VVi_Zcu"
   },
   "source": [
    "## Prueba de Hipótesis <a id='activity'></a>"
   ]
  },
  {
   "cell_type": "markdown",
   "metadata": {},
   "source": [
    "Hipótesis 1:\n",
    "- H0: No hay diferencia significativa en la cantidad promedio de reproducciones por usuario entre Springfield y Shelbyville.\n",
    "- H1: Los usuarios de Springfield reproducen más canciones (mayor promedio) que los de Shelbyville."
   ]
  },
  {
   "cell_type": "code",
   "execution_count": 73,
   "metadata": {},
   "outputs": [
    {
     "name": "stdout",
     "output_type": "stream",
     "text": [
      "🔍 Test t para comparación de medias entre ciudades\n",
      "Estadístico t = -2.295\n",
      "Valor p = 0.0217\n",
      "\n",
      "📌 Conclusión:\n",
      "✅ Se rechaza la hipótesis nula: Shelbyville tiene usuarios más activos que Springfield.\n"
     ]
    }
   ],
   "source": [
    "# Para Springfield\n",
    "springfield_usuarios = df[df['city'] == 'Springfield']\n",
    "springfield_reproducciones = springfield_usuarios.groupby('user_id').size().reset_index(name='reproducciones')\n",
    "\n",
    "# Para Shelbyville\n",
    "shelbyville_usuarios = df[df['city'] == 'Shelbyville']\n",
    "shelbyville_reproducciones = shelbyville_usuarios.groupby('user_id').size().reset_index(name='reproducciones')\n",
    "\n",
    "# Test t (asumiendo varianzas diferentes)\n",
    "t_stat, p_val = ttest_ind(\n",
    "    springfield_reproducciones['reproducciones'],\n",
    "    shelbyville_reproducciones['reproducciones'],\n",
    "    equal_var=False\n",
    ")\n",
    "\n",
    "# Imprimir resultado\n",
    "print(\"🔍 Test t para comparación de medias entre ciudades\")\n",
    "print(f\"Estadístico t = {t_stat:.3f}\")\n",
    "print(f\"Valor p = {p_val:.4f}\")\n",
    "\n",
    "# Umbral de significancia\n",
    "alpha = 0.05\n",
    "\n",
    "# Evaluar hipótesis con los datos correctos\n",
    "if p_val < alpha:\n",
    "    if springfield_reproducciones['reproducciones'].mean() > shelbyville_reproducciones['reproducciones'].mean():\n",
    "        conclusion = \"✅ Se rechaza la hipótesis nula: Springfield tiene usuarios más activos que Shelbyville.\"\n",
    "    else:\n",
    "        conclusion = \"✅ Se rechaza la hipótesis nula: Shelbyville tiene usuarios más activos que Springfield.\"\n",
    "else:\n",
    "    conclusion = \"❌ No se rechaza la hipótesis nula: No hay diferencia significativa en la actividad promedio entre ambas ciudades.\"\n",
    "\n",
    "print(\"\\n📌 Conclusión:\")\n",
    "print(conclusion)\n",
    "\n"
   ]
  },
  {
   "cell_type": "markdown",
   "metadata": {},
   "source": [
    "Hipótesis 2:\n",
    "\n",
    "H₀ (Hipótesis nula):\n",
    "No hay evidencia suficiente para decir que los días pico difieren entre ciudades.\n",
    "\n",
    "H₁ (Hipótesis alternativa):\n",
    "La distribución de escuchas por día difiere entre ciudades.\n"
   ]
  },
  {
   "cell_type": "code",
   "execution_count": 74,
   "metadata": {},
   "outputs": [
    {
     "name": "stdout",
     "output_type": "stream",
     "text": [
      "Tabla de contingencia (escuchas por ciudad y día):\n",
      "day          Friday  Monday  Wednesday\n",
      "city                                  \n",
      "Shelbyville    5895    5614       7003\n",
      "Springfield   15945   15740      11056\n",
      "\n",
      "Estadístico Chi-cuadrado: 891.561\n",
      "Valor p: 0.0000\n",
      "Grados de libertad: 2\n",
      "\n",
      "Conclusión:\n",
      "✅ Se rechaza la hipótesis nula: La distribución de escuchas por día difiere entre ciudades.\n"
     ]
    }
   ],
   "source": [
    "# Crear tabla de contingencia: filas = ciudad, columnas = día, valores = cantidad de escuchas\n",
    "tabla_contingencia = pd.crosstab(df['city'], df['day'])\n",
    "\n",
    "print(\"Tabla de contingencia (escuchas por ciudad y día):\")\n",
    "print(tabla_contingencia)\n",
    "\n",
    "# Test Chi-cuadrado\n",
    "chi2, p_val, dof, expected = chi2_contingency(tabla_contingencia)\n",
    "\n",
    "print(f\"\\nEstadístico Chi-cuadrado: {chi2:.3f}\")\n",
    "print(f\"Valor p: {p_val:.4f}\")\n",
    "print(f\"Grados de libertad: {dof}\")\n",
    "\n",
    "# Nivel de significancia\n",
    "alpha = 0.05\n",
    "\n",
    "# Interpretación\n",
    "if p_val < alpha:\n",
    "    conclusion = \"✅ Se rechaza la hipótesis nula: La distribución de escuchas por día difiere entre ciudades.\"\n",
    "else:\n",
    "    conclusion = \"❌ No se rechaza la hipótesis nula: No hay evidencia suficiente para decir que los días pico difieren entre ciudades.\"\n",
    "\n",
    "print(\"\\nConclusión:\")\n",
    "print(conclusion)"
   ]
  },
  {
   "cell_type": "markdown",
   "metadata": {
    "id": "ykKQ0N65_Zcv"
   },
   "source": [
    "# Conclusiones <a id='end'></a>"
   ]
  },
  {
   "cell_type": "markdown",
   "metadata": {
    "id": "cC2tNrlL_Zcu"
   },
   "source": [
    "🎧 1. Volumen de consumo marcadamente distinto\n",
    "- Springfield muestra un volumen de reproducciones significativamente mayor que Shelbyville (más del doble).\n",
    "- Esta diferencia sugiere un mayor engagement o una base de usuarios más activa, lo que puede ser útil para priorizar inversión en campañas o lanzamientos dirigidos.\n",
    "\n",
    "📅 Patrones diferenciados de consumo por día\n",
    "- Springfield presenta un patrón de consumo más equilibrado, con picos claros los lunes y viernes, lo que sugiere un hábito constante de escucha en inicios y cierres de semana. Esto lo convierte en un público ideal para estrenos regulares o promociones de inicio de semana y fines de semana.\n",
    "- Shelbyville, en cambio, muestra una concentración significativa de escuchas los miércoles, revelando un comportamiento menos predecible. Esto abre la puerta a estrategias más puntuales y personalizadas.\n",
    "- A pesar de estas diferencias en días de mayor actividad, ambas ciudades comparten franjas horarias similares de mayor escucha, lo que permite sincronizar horarios de lanzamientos o campañas, adaptando el día de publicación según la ciudad.\n",
    "\n",
    "🎼 3. Diversidad musical\n",
    "- Springfield no solo tiene más géneros únicos (250 vs 202), sino también más artistas distintos (28,627 vs 13,924).\n",
    "- Los mismos géneros aparecen como los más escuchados tanto en Springfield como en Shelbyville. Esto sugiere que, existe un núcleo de preferencias comunes. Esto permitirá crear contenido (como playlists, campañas o promociones) usando estos géneros, y es más probable que funcione bien en las dos ciudades al mismo tiempo.\n",
    "\n",
    "📊 4. Artistas y canciones compartidos vs. específicos\n",
    "- La mayoria de artistas y canciones aparecen en el top de ambas ciudades (Kartvelli, MALFA, Irina Shok, etc.), lo que sugiere un núcleo de gustos comunes.\n",
    "\n",
    "📊 5. Diferencia en actividad de usuarios\n",
    "- Springfield tiene más usuarios y más reproducciones totales, pero su comportamiento promedio por usuario es menos intenso.\n",
    "- Shelbyville, aunque con menos personas, tiene usuarios que escuchan más música individualmente.\n",
    "\n",
    "🧠 6. Los resultados del test de chi-cuadrado muestran diferencias significativas en la distribución de reproducciones musicales por día entre Springfield y Shelbyville. Esto confirma que cada ciudad presenta patrones distintos de consumo semanal, lo cual justifica enfoques diferenciados en estrategias de contenido y marketing. \n",
    "\n",
    "\n"
   ]
  }
 ],
 "metadata": {
  "ExecuteTimeLog": [
   {
    "duration": 313,
    "start_time": "2024-07-17T22:50:07.835Z"
   },
   {
    "duration": 21,
    "start_time": "2024-07-17T22:50:48.771Z"
   },
   {
    "duration": 32,
    "start_time": "2024-07-17T22:52:33.797Z"
   },
   {
    "duration": 22,
    "start_time": "2024-07-17T22:53:53.925Z"
   },
   {
    "duration": 20,
    "start_time": "2024-07-17T22:56:32.988Z"
   },
   {
    "duration": 21,
    "start_time": "2024-07-17T22:56:47.267Z"
   },
   {
    "duration": 26,
    "start_time": "2024-07-17T22:57:27.675Z"
   },
   {
    "duration": 63,
    "start_time": "2024-07-17T22:57:50.744Z"
   },
   {
    "duration": 24,
    "start_time": "2024-07-17T22:58:21.349Z"
   },
   {
    "duration": 21,
    "start_time": "2024-07-17T22:58:39.118Z"
   },
   {
    "duration": 624,
    "start_time": "2024-07-17T22:59:30.550Z"
   },
   {
    "duration": 12,
    "start_time": "2024-07-17T22:59:49.684Z"
   },
   {
    "duration": 3,
    "start_time": "2024-07-17T23:00:07.161Z"
   },
   {
    "duration": 4,
    "start_time": "2024-07-17T23:07:43.861Z"
   },
   {
    "duration": 35,
    "start_time": "2024-07-17T23:08:17.419Z"
   },
   {
    "duration": 377,
    "start_time": "2024-07-18T22:38:21.234Z"
   },
   {
    "duration": 8,
    "start_time": "2024-07-18T22:39:36.608Z"
   },
   {
    "duration": 1364,
    "start_time": "2024-07-18T22:39:52.282Z"
   },
   {
    "duration": 132,
    "start_time": "2024-07-18T22:39:54.493Z"
   },
   {
    "duration": 180,
    "start_time": "2024-07-18T22:39:57.817Z"
   },
   {
    "duration": 38,
    "start_time": "2024-07-18T22:41:41.650Z"
   },
   {
    "duration": 271,
    "start_time": "2024-07-18T22:43:46.186Z"
   },
   {
    "duration": 7,
    "start_time": "2024-07-18T22:48:46.048Z"
   },
   {
    "duration": 34,
    "start_time": "2024-07-18T22:54:35.078Z"
   },
   {
    "duration": 33,
    "start_time": "2024-07-18T22:54:51.765Z"
   },
   {
    "duration": 10,
    "start_time": "2024-07-18T22:57:30.449Z"
   },
   {
    "duration": 6,
    "start_time": "2024-07-18T22:58:31.070Z"
   },
   {
    "duration": 6,
    "start_time": "2024-07-18T23:02:45.794Z"
   },
   {
    "duration": 5,
    "start_time": "2024-07-18T23:02:47.878Z"
   },
   {
    "duration": 16,
    "start_time": "2024-07-18T23:03:00.332Z"
   },
   {
    "duration": 52,
    "start_time": "2024-07-18T23:03:31.849Z"
   },
   {
    "duration": 5,
    "start_time": "2024-07-18T23:03:43.197Z"
   },
   {
    "duration": 26,
    "start_time": "2024-07-18T23:07:13.857Z"
   },
   {
    "duration": 383,
    "start_time": "2024-07-19T00:35:01.491Z"
   },
   {
    "duration": 24,
    "start_time": "2024-07-19T00:35:37.188Z"
   },
   {
    "duration": 29,
    "start_time": "2024-07-19T00:38:44.122Z"
   },
   {
    "duration": 13,
    "start_time": "2024-07-19T00:39:00.917Z"
   },
   {
    "duration": 29,
    "start_time": "2024-07-19T00:39:17.557Z"
   },
   {
    "duration": 29,
    "start_time": "2024-07-19T00:40:32.215Z"
   },
   {
    "duration": 29,
    "start_time": "2024-07-19T00:41:02.474Z"
   },
   {
    "duration": 24,
    "start_time": "2024-07-19T00:41:13.219Z"
   },
   {
    "duration": 55,
    "start_time": "2024-07-19T00:41:22.754Z"
   },
   {
    "duration": 22,
    "start_time": "2024-07-19T00:41:33.768Z"
   },
   {
    "duration": 23,
    "start_time": "2024-07-19T00:41:42.906Z"
   },
   {
    "duration": 25,
    "start_time": "2024-07-19T00:41:46.966Z"
   },
   {
    "duration": 563,
    "start_time": "2024-07-19T00:41:50.377Z"
   },
   {
    "duration": 51,
    "start_time": "2024-07-19T00:41:56.786Z"
   },
   {
    "duration": 162,
    "start_time": "2024-07-19T00:42:02.752Z"
   },
   {
    "duration": 6,
    "start_time": "2024-07-19T00:42:05.180Z"
   },
   {
    "duration": 11,
    "start_time": "2024-07-19T00:42:08.452Z"
   },
   {
    "duration": 5,
    "start_time": "2024-07-19T00:42:10.822Z"
   },
   {
    "duration": 4,
    "start_time": "2024-07-19T00:42:13.470Z"
   },
   {
    "duration": 36,
    "start_time": "2024-07-19T00:42:17.176Z"
   },
   {
    "duration": 36,
    "start_time": "2024-07-19T00:42:21.818Z"
   },
   {
    "duration": 50,
    "start_time": "2024-07-19T00:43:25.075Z"
   },
   {
    "duration": 4,
    "start_time": "2024-07-19T00:43:50.450Z"
   },
   {
    "duration": 44,
    "start_time": "2024-07-19T00:44:46.010Z"
   },
   {
    "duration": 154,
    "start_time": "2024-07-19T00:49:08.287Z"
   },
   {
    "duration": 148,
    "start_time": "2024-07-19T00:50:37.046Z"
   },
   {
    "duration": 66,
    "start_time": "2024-07-19T00:54:18.351Z"
   },
   {
    "duration": 71,
    "start_time": "2024-07-19T00:54:21.374Z"
   },
   {
    "duration": 25,
    "start_time": "2024-07-19T00:54:29.644Z"
   },
   {
    "duration": 24,
    "start_time": "2024-07-19T00:54:31.023Z"
   },
   {
    "duration": 69,
    "start_time": "2024-07-19T00:54:35.281Z"
   },
   {
    "duration": 3,
    "start_time": "2024-07-19T00:55:53.127Z"
   },
   {
    "duration": 145,
    "start_time": "2024-07-19T00:55:53.137Z"
   },
   {
    "duration": 83,
    "start_time": "2024-07-19T00:56:16.667Z"
   },
   {
    "duration": 67,
    "start_time": "2024-07-19T00:57:39.231Z"
   },
   {
    "duration": 9,
    "start_time": "2024-07-19T01:02:58.987Z"
   },
   {
    "duration": 12,
    "start_time": "2024-07-19T01:03:12.795Z"
   },
   {
    "duration": 9,
    "start_time": "2024-07-19T01:03:25.334Z"
   },
   {
    "duration": 8,
    "start_time": "2024-07-19T01:03:33.310Z"
   },
   {
    "duration": 8,
    "start_time": "2024-07-19T01:03:41.608Z"
   },
   {
    "duration": 8,
    "start_time": "2024-07-19T01:03:57.905Z"
   },
   {
    "duration": 8,
    "start_time": "2024-07-19T01:04:00.760Z"
   },
   {
    "duration": 130,
    "start_time": "2024-07-19T01:04:15.686Z"
   },
   {
    "duration": 8,
    "start_time": "2024-07-19T01:04:19.444Z"
   },
   {
    "duration": 11,
    "start_time": "2024-07-19T01:04:48.630Z"
   },
   {
    "duration": 327,
    "start_time": "2024-07-19T17:54:13.523Z"
   },
   {
    "duration": 410,
    "start_time": "2024-07-19T17:54:22.386Z"
   },
   {
    "duration": 57,
    "start_time": "2024-07-19T17:54:28.406Z"
   },
   {
    "duration": 769,
    "start_time": "2024-07-19T17:54:31.718Z"
   },
   {
    "duration": 124,
    "start_time": "2024-07-19T17:54:47.066Z"
   },
   {
    "duration": 21,
    "start_time": "2024-07-19T17:54:55.763Z"
   },
   {
    "duration": 53,
    "start_time": "2024-07-19T17:55:00.267Z"
   },
   {
    "duration": 4,
    "start_time": "2024-07-19T17:55:15.767Z"
   },
   {
    "duration": 119,
    "start_time": "2024-07-19T17:55:20.992Z"
   },
   {
    "duration": 120,
    "start_time": "2024-07-19T17:55:36.135Z"
   },
   {
    "duration": 403,
    "start_time": "2024-07-19T17:55:49.889Z"
   },
   {
    "duration": 1069,
    "start_time": "2024-07-19T17:55:54.200Z"
   },
   {
    "duration": 184,
    "start_time": "2024-07-19T17:56:27.934Z"
   },
   {
    "duration": 24,
    "start_time": "2024-07-19T17:56:32.328Z"
   },
   {
    "duration": 37,
    "start_time": "2024-07-19T17:56:41.348Z"
   },
   {
    "duration": 186,
    "start_time": "2024-07-19T17:56:48.147Z"
   },
   {
    "duration": 5,
    "start_time": "2024-07-19T17:56:55.943Z"
   },
   {
    "duration": 5,
    "start_time": "2024-07-19T17:57:02.819Z"
   },
   {
    "duration": 5,
    "start_time": "2024-07-19T17:57:08.095Z"
   },
   {
    "duration": 26,
    "start_time": "2024-07-19T17:57:17.150Z"
   },
   {
    "duration": 26,
    "start_time": "2024-07-19T17:58:59.415Z"
   },
   {
    "duration": 29,
    "start_time": "2024-07-19T17:59:41.128Z"
   },
   {
    "duration": 7,
    "start_time": "2024-07-19T18:00:05.555Z"
   },
   {
    "duration": 6,
    "start_time": "2024-07-19T18:00:26.413Z"
   },
   {
    "duration": 6,
    "start_time": "2024-07-19T18:00:41.593Z"
   },
   {
    "duration": 6,
    "start_time": "2024-07-19T18:00:46.832Z"
   },
   {
    "duration": 6,
    "start_time": "2024-07-19T18:00:53.456Z"
   },
   {
    "duration": 5,
    "start_time": "2024-07-19T18:01:09.826Z"
   },
   {
    "duration": 37,
    "start_time": "2024-07-19T18:11:12.166Z"
   },
   {
    "duration": 9,
    "start_time": "2024-07-19T18:11:19.223Z"
   },
   {
    "duration": 23,
    "start_time": "2024-07-19T18:11:32.763Z"
   },
   {
    "duration": 44,
    "start_time": "2024-07-19T18:13:02.614Z"
   },
   {
    "duration": 19,
    "start_time": "2024-07-19T18:13:39.556Z"
   },
   {
    "duration": 27,
    "start_time": "2024-07-19T18:16:40.299Z"
   },
   {
    "duration": 323,
    "start_time": "2024-07-19T18:16:54.807Z"
   },
   {
    "duration": 22,
    "start_time": "2024-07-19T18:17:11.682Z"
   },
   {
    "duration": 446,
    "start_time": "2024-07-19T18:17:16.868Z"
   },
   {
    "duration": 200,
    "start_time": "2024-07-19T18:17:18.988Z"
   },
   {
    "duration": 13,
    "start_time": "2024-07-19T18:17:21.802Z"
   },
   {
    "duration": 37,
    "start_time": "2024-07-19T18:17:28.636Z"
   },
   {
    "duration": 6,
    "start_time": "2024-07-19T18:17:41.170Z"
   },
   {
    "duration": 6,
    "start_time": "2024-07-19T18:18:00.072Z"
   },
   {
    "duration": 26,
    "start_time": "2024-07-19T18:18:09.981Z"
   },
   {
    "duration": 44,
    "start_time": "2024-07-19T18:18:17.024Z"
   },
   {
    "duration": 25,
    "start_time": "2024-07-19T18:18:30.567Z"
   },
   {
    "duration": 4,
    "start_time": "2024-07-19T18:18:51.275Z"
   },
   {
    "duration": 25,
    "start_time": "2024-07-19T18:18:54.759Z"
   },
   {
    "duration": 431,
    "start_time": "2024-07-19T18:19:12.475Z"
   },
   {
    "duration": 153,
    "start_time": "2024-07-19T18:19:14.760Z"
   },
   {
    "duration": 12,
    "start_time": "2024-07-19T18:19:19.044Z"
   },
   {
    "duration": 36,
    "start_time": "2024-07-19T18:19:22.619Z"
   },
   {
    "duration": 155,
    "start_time": "2024-07-19T18:19:30.841Z"
   },
   {
    "duration": 4,
    "start_time": "2024-07-19T18:19:36.787Z"
   },
   {
    "duration": 6,
    "start_time": "2024-07-19T18:19:39.820Z"
   },
   {
    "duration": 6,
    "start_time": "2024-07-19T18:19:42.614Z"
   },
   {
    "duration": 5,
    "start_time": "2024-07-19T18:19:45.066Z"
   },
   {
    "duration": 26,
    "start_time": "2024-07-19T18:19:48.218Z"
   },
   {
    "duration": 70,
    "start_time": "2024-07-19T18:19:55.913Z"
   },
   {
    "duration": 38,
    "start_time": "2024-07-19T18:20:00.221Z"
   },
   {
    "duration": 76,
    "start_time": "2024-07-19T18:20:03.416Z"
   },
   {
    "duration": 91,
    "start_time": "2024-07-19T18:20:13.235Z"
   },
   {
    "duration": 68,
    "start_time": "2024-07-19T18:20:23.564Z"
   },
   {
    "duration": 17,
    "start_time": "2024-07-19T18:20:34.123Z"
   },
   {
    "duration": 28,
    "start_time": "2024-07-19T18:20:43.666Z"
   },
   {
    "duration": 4,
    "start_time": "2024-07-19T18:21:58.362Z"
   },
   {
    "duration": 5,
    "start_time": "2024-07-19T18:23:52.576Z"
   },
   {
    "duration": 11,
    "start_time": "2024-07-19T18:23:55.702Z"
   },
   {
    "duration": 18,
    "start_time": "2024-07-19T18:23:58.062Z"
   },
   {
    "duration": 41,
    "start_time": "2024-07-19T18:37:31.684Z"
   },
   {
    "duration": 356,
    "start_time": "2024-07-19T18:38:31.304Z"
   },
   {
    "duration": 48,
    "start_time": "2024-07-19T18:38:44.418Z"
   },
   {
    "duration": 433,
    "start_time": "2024-07-19T20:37:59.760Z"
   },
   {
    "duration": 212,
    "start_time": "2024-07-19T20:38:02.512Z"
   },
   {
    "duration": 11,
    "start_time": "2024-07-19T20:38:04.568Z"
   },
   {
    "duration": 35,
    "start_time": "2024-07-19T20:38:13.181Z"
   },
   {
    "duration": 168,
    "start_time": "2024-07-19T20:38:20.492Z"
   },
   {
    "duration": 6,
    "start_time": "2024-07-19T20:38:23.942Z"
   },
   {
    "duration": 5,
    "start_time": "2024-07-19T20:38:30.372Z"
   },
   {
    "duration": 6,
    "start_time": "2024-07-19T20:38:34.695Z"
   },
   {
    "duration": 5,
    "start_time": "2024-07-19T20:38:43.448Z"
   },
   {
    "duration": 27,
    "start_time": "2024-07-19T20:38:47.504Z"
   },
   {
    "duration": 48,
    "start_time": "2024-07-19T20:38:52.900Z"
   },
   {
    "duration": 26,
    "start_time": "2024-07-19T20:39:02.656Z"
   },
   {
    "duration": 84,
    "start_time": "2024-07-19T20:39:25.008Z"
   },
   {
    "duration": 83,
    "start_time": "2024-07-19T20:39:30.718Z"
   },
   {
    "duration": 96,
    "start_time": "2024-07-19T20:39:34.823Z"
   },
   {
    "duration": 18,
    "start_time": "2024-07-19T20:40:12.521Z"
   },
   {
    "duration": 5,
    "start_time": "2024-07-19T20:40:18.235Z"
   },
   {
    "duration": 13,
    "start_time": "2024-07-19T20:40:22.403Z"
   },
   {
    "duration": 24,
    "start_time": "2024-07-19T20:40:25.962Z"
   },
   {
    "duration": 609,
    "start_time": "2024-07-19T20:40:37.981Z"
   },
   {
    "duration": 37,
    "start_time": "2024-07-19T20:41:08.491Z"
   },
   {
    "duration": 19,
    "start_time": "2024-07-19T20:41:24.966Z"
   },
   {
    "duration": 38,
    "start_time": "2024-07-19T20:46:10.320Z"
   },
   {
    "duration": 5,
    "start_time": "2024-07-19T21:07:20.992Z"
   },
   {
    "duration": 20,
    "start_time": "2024-07-19T21:10:12.739Z"
   },
   {
    "duration": 337,
    "start_time": "2024-07-19T21:18:37.875Z"
   },
   {
    "duration": 27,
    "start_time": "2024-07-19T21:18:38.737Z"
   },
   {
    "duration": 492,
    "start_time": "2024-07-19T21:19:16.821Z"
   },
   {
    "duration": 176,
    "start_time": "2024-07-19T21:19:18.669Z"
   },
   {
    "duration": 14,
    "start_time": "2024-07-19T21:19:21.327Z"
   },
   {
    "duration": 54,
    "start_time": "2024-07-19T21:19:25.078Z"
   },
   {
    "duration": 202,
    "start_time": "2024-07-19T21:19:29.012Z"
   },
   {
    "duration": 7,
    "start_time": "2024-07-19T21:19:32.598Z"
   },
   {
    "duration": 7,
    "start_time": "2024-07-19T21:19:36.169Z"
   },
   {
    "duration": 5,
    "start_time": "2024-07-19T21:19:38.498Z"
   },
   {
    "duration": 5,
    "start_time": "2024-07-19T21:19:40.813Z"
   },
   {
    "duration": 26,
    "start_time": "2024-07-19T21:19:44.250Z"
   },
   {
    "duration": 47,
    "start_time": "2024-07-19T21:19:49.407Z"
   },
   {
    "duration": 25,
    "start_time": "2024-07-19T21:19:55.239Z"
   },
   {
    "duration": 80,
    "start_time": "2024-07-19T21:19:59.064Z"
   },
   {
    "duration": 85,
    "start_time": "2024-07-19T21:20:01.014Z"
   },
   {
    "duration": 73,
    "start_time": "2024-07-19T21:20:03.592Z"
   },
   {
    "duration": 19,
    "start_time": "2024-07-19T21:20:06.357Z"
   },
   {
    "duration": 5,
    "start_time": "2024-07-19T21:20:11.364Z"
   },
   {
    "duration": 12,
    "start_time": "2024-07-19T21:20:12.944Z"
   },
   {
    "duration": 20,
    "start_time": "2024-07-19T21:20:18.068Z"
   },
   {
    "duration": 55,
    "start_time": "2024-07-19T21:21:41.060Z"
   },
   {
    "duration": 37,
    "start_time": "2024-07-19T21:21:52.643Z"
   },
   {
    "duration": 72,
    "start_time": "2024-07-19T21:25:55.931Z"
   },
   {
    "duration": 38243,
    "start_time": "2024-07-19T21:28:48.158Z"
   },
   {
    "duration": 117,
    "start_time": "2024-07-19T21:33:49.092Z"
   },
   {
    "duration": 118,
    "start_time": "2024-07-19T21:34:37.176Z"
   },
   {
    "duration": 6463,
    "start_time": "2024-07-19T21:43:35.509Z"
   },
   {
    "duration": 92,
    "start_time": "2024-07-19T21:44:52.753Z"
   },
   {
    "duration": 95,
    "start_time": "2024-07-19T22:20:36.445Z"
   },
   {
    "duration": 158,
    "start_time": "2024-07-19T22:26:23.552Z"
   },
   {
    "duration": 100,
    "start_time": "2024-07-19T22:27:03.230Z"
   },
   {
    "duration": 13,
    "start_time": "2024-07-19T22:27:28.637Z"
   },
   {
    "duration": 19,
    "start_time": "2024-07-19T22:28:18.273Z"
   },
   {
    "duration": 20,
    "start_time": "2024-07-19T22:30:26.667Z"
   },
   {
    "duration": 133,
    "start_time": "2024-07-19T22:35:35.917Z"
   },
   {
    "duration": 41,
    "start_time": "2024-07-19T22:37:11.224Z"
   },
   {
    "duration": 19,
    "start_time": "2024-07-19T22:39:58.359Z"
   },
   {
    "duration": 234,
    "start_time": "2024-07-19T23:06:14.923Z"
   },
   {
    "duration": 31,
    "start_time": "2024-07-19T23:07:16.859Z"
   },
   {
    "duration": 496,
    "start_time": "2024-07-19T23:08:32.236Z"
   },
   {
    "duration": 234,
    "start_time": "2024-07-19T23:08:32.736Z"
   },
   {
    "duration": 11,
    "start_time": "2024-07-19T23:08:34.991Z"
   },
   {
    "duration": 35,
    "start_time": "2024-07-19T23:08:37.949Z"
   },
   {
    "duration": 171,
    "start_time": "2024-07-19T23:08:41.299Z"
   },
   {
    "duration": 5,
    "start_time": "2024-07-19T23:08:43.819Z"
   },
   {
    "duration": 5,
    "start_time": "2024-07-19T23:08:46.330Z"
   },
   {
    "duration": 6,
    "start_time": "2024-07-19T23:08:47.968Z"
   },
   {
    "duration": 4,
    "start_time": "2024-07-19T23:08:50.326Z"
   },
   {
    "duration": 27,
    "start_time": "2024-07-19T23:08:53.011Z"
   },
   {
    "duration": 57,
    "start_time": "2024-07-19T23:08:56.749Z"
   },
   {
    "duration": 26,
    "start_time": "2024-07-19T23:09:07.661Z"
   },
   {
    "duration": 77,
    "start_time": "2024-07-19T23:09:11.489Z"
   },
   {
    "duration": 87,
    "start_time": "2024-07-19T23:09:13.119Z"
   },
   {
    "duration": 79,
    "start_time": "2024-07-19T23:09:16.052Z"
   },
   {
    "duration": 18,
    "start_time": "2024-07-19T23:09:20.317Z"
   },
   {
    "duration": 5,
    "start_time": "2024-07-19T23:09:24.725Z"
   },
   {
    "duration": 18,
    "start_time": "2024-07-19T23:09:28.815Z"
   },
   {
    "duration": 20,
    "start_time": "2024-07-19T23:09:30.419Z"
   },
   {
    "duration": 38,
    "start_time": "2024-07-19T23:09:35.485Z"
   },
   {
    "duration": 19,
    "start_time": "2024-07-19T23:09:40.782Z"
   },
   {
    "duration": 348,
    "start_time": "2024-07-19T23:09:48.570Z"
   },
   {
    "duration": 26,
    "start_time": "2024-07-19T23:11:24.258Z"
   },
   {
    "duration": 760,
    "start_time": "2024-07-19T23:11:43.595Z"
   },
   {
    "duration": 94,
    "start_time": "2024-07-19T23:14:00.260Z"
   },
   {
    "duration": 95,
    "start_time": "2024-07-19T23:15:37.693Z"
   },
   {
    "duration": 96,
    "start_time": "2024-07-19T23:16:26.171Z"
   },
   {
    "duration": 95,
    "start_time": "2024-07-19T23:17:23.984Z"
   },
   {
    "duration": 93,
    "start_time": "2024-07-19T23:17:57.811Z"
   },
   {
    "duration": 92,
    "start_time": "2024-07-19T23:18:14.123Z"
   },
   {
    "duration": 100,
    "start_time": "2024-07-19T23:18:34.860Z"
   },
   {
    "duration": 120,
    "start_time": "2024-07-19T23:18:48.136Z"
   },
   {
    "duration": 11,
    "start_time": "2024-07-19T23:19:00.695Z"
   },
   {
    "duration": 26,
    "start_time": "2024-07-19T23:19:35.262Z"
   },
   {
    "duration": 25,
    "start_time": "2024-07-19T23:19:43.137Z"
   },
   {
    "duration": 93,
    "start_time": "2024-07-19T23:19:51.143Z"
   },
   {
    "duration": 5,
    "start_time": "2024-07-19T23:20:23.744Z"
   },
   {
    "duration": 4,
    "start_time": "2024-07-19T23:20:27.488Z"
   },
   {
    "duration": 5,
    "start_time": "2024-07-19T23:20:33.953Z"
   },
   {
    "duration": 91,
    "start_time": "2024-07-19T23:20:39.032Z"
   },
   {
    "duration": 97,
    "start_time": "2024-07-19T23:23:24.006Z"
   },
   {
    "duration": 26,
    "start_time": "2024-07-19T23:28:47.204Z"
   },
   {
    "duration": 29,
    "start_time": "2024-07-19T23:28:55.072Z"
   },
   {
    "duration": 34,
    "start_time": "2024-07-19T23:29:09.295Z"
   },
   {
    "duration": 24,
    "start_time": "2024-07-19T23:29:31.748Z"
   },
   {
    "duration": 173,
    "start_time": "2024-07-19T23:29:53.336Z"
   },
   {
    "duration": 8,
    "start_time": "2024-07-19T23:34:09.831Z"
   },
   {
    "duration": 8,
    "start_time": "2024-07-19T23:35:06.047Z"
   },
   {
    "duration": 8,
    "start_time": "2024-07-19T23:36:46.755Z"
   },
   {
    "duration": 25,
    "start_time": "2024-07-19T23:39:14.294Z"
   },
   {
    "duration": 24,
    "start_time": "2024-07-19T23:40:02.025Z"
   },
   {
    "duration": 23,
    "start_time": "2024-07-19T23:41:33.006Z"
   },
   {
    "duration": 20,
    "start_time": "2024-07-19T23:42:07.226Z"
   },
   {
    "duration": 21,
    "start_time": "2024-07-19T23:42:28.825Z"
   },
   {
    "duration": 19,
    "start_time": "2024-07-19T23:43:05.844Z"
   },
   {
    "duration": 22,
    "start_time": "2024-07-19T23:43:13.330Z"
   },
   {
    "duration": 22,
    "start_time": "2024-07-19T23:43:39.695Z"
   },
   {
    "duration": 497,
    "start_time": "2024-07-19T23:55:35.594Z"
   },
   {
    "duration": 160,
    "start_time": "2024-07-19T23:55:37.923Z"
   },
   {
    "duration": 12,
    "start_time": "2024-07-19T23:55:42.186Z"
   },
   {
    "duration": 34,
    "start_time": "2024-07-19T23:55:47.451Z"
   },
   {
    "duration": 467,
    "start_time": "2024-07-20T01:10:45.082Z"
   },
   {
    "duration": 169,
    "start_time": "2024-07-20T01:10:46.702Z"
   },
   {
    "duration": 13,
    "start_time": "2024-07-20T01:10:48.218Z"
   },
   {
    "duration": 33,
    "start_time": "2024-07-20T01:10:50.428Z"
   },
   {
    "duration": 179,
    "start_time": "2024-07-20T01:10:57.618Z"
   },
   {
    "duration": 6,
    "start_time": "2024-07-20T01:11:00.305Z"
   },
   {
    "duration": 5,
    "start_time": "2024-07-20T01:11:03.158Z"
   },
   {
    "duration": 6,
    "start_time": "2024-07-20T01:11:05.419Z"
   },
   {
    "duration": 4,
    "start_time": "2024-07-20T01:11:08.313Z"
   },
   {
    "duration": 26,
    "start_time": "2024-07-20T01:11:10.955Z"
   },
   {
    "duration": 46,
    "start_time": "2024-07-20T01:11:14.146Z"
   },
   {
    "duration": 26,
    "start_time": "2024-07-20T01:11:17.179Z"
   },
   {
    "duration": 75,
    "start_time": "2024-07-20T01:11:19.606Z"
   },
   {
    "duration": 83,
    "start_time": "2024-07-20T01:11:22.057Z"
   },
   {
    "duration": 74,
    "start_time": "2024-07-20T01:11:23.632Z"
   },
   {
    "duration": 22,
    "start_time": "2024-07-20T01:11:27.748Z"
   },
   {
    "duration": 3,
    "start_time": "2024-07-20T01:11:32.097Z"
   },
   {
    "duration": 13,
    "start_time": "2024-07-20T01:11:34.798Z"
   },
   {
    "duration": 26,
    "start_time": "2024-07-20T01:11:36.691Z"
   },
   {
    "duration": 39,
    "start_time": "2024-07-20T01:11:42.186Z"
   },
   {
    "duration": 19,
    "start_time": "2024-07-20T01:11:49.151Z"
   },
   {
    "duration": 5,
    "start_time": "2024-07-20T01:11:51.768Z"
   },
   {
    "duration": 24,
    "start_time": "2024-07-20T01:11:55.750Z"
   },
   {
    "duration": 19,
    "start_time": "2024-07-20T01:11:59.054Z"
   },
   {
    "duration": 23,
    "start_time": "2024-07-20T01:12:02.068Z"
   },
   {
    "duration": 19,
    "start_time": "2024-07-20T01:12:05.641Z"
   },
   {
    "duration": 22,
    "start_time": "2024-07-20T01:12:07.366Z"
   },
   {
    "duration": 19,
    "start_time": "2024-07-20T01:12:09.863Z"
   }
  ],
  "colab": {
   "collapsed_sections": [
    "E0vqbgi9ay0H",
    "VUC88oWjTJw2"
   ],
   "provenance": []
  },
  "kernelspec": {
   "display_name": "venv",
   "language": "python",
   "name": "python3"
  },
  "language_info": {
   "codemirror_mode": {
    "name": "ipython",
    "version": 3
   },
   "file_extension": ".py",
   "mimetype": "text/x-python",
   "name": "python",
   "nbconvert_exporter": "python",
   "pygments_lexer": "ipython3",
   "version": "3.12.10"
  },
  "toc": {
   "base_numbering": 1,
   "nav_menu": {},
   "number_sections": true,
   "sideBar": true,
   "skip_h1_title": true,
   "title_cell": "Table of Contents",
   "title_sidebar": "Contents",
   "toc_cell": false,
   "toc_position": {},
   "toc_section_display": true,
   "toc_window_display": false
  }
 },
 "nbformat": 4,
 "nbformat_minor": 1
}
